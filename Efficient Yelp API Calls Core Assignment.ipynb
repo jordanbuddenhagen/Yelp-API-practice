{
 "cells": [
  {
   "cell_type": "code",
   "execution_count": 1,
   "id": "25af88c7",
   "metadata": {},
   "outputs": [],
   "source": [
    "import numpy as np\n",
    "import pandas as pd\n",
    "import matplotlib.pyplot as plt\n",
    "import seaborn as sns\n",
    "import os, json, math, time\n",
    "from yelpapi import YelpAPI\n",
    "from tqdm.notebook import tqdm_notebook"
   ]
  },
  {
   "cell_type": "code",
   "execution_count": 2,
   "id": "c0af0f40",
   "metadata": {},
   "outputs": [],
   "source": [
    "with open('/Users/laura/.secret/yelp_api.json', 'r') as f: \n",
    "    login = json.load(f)"
   ]
  },
  {
   "cell_type": "code",
   "execution_count": 3,
   "id": "9981ecf8",
   "metadata": {},
   "outputs": [],
   "source": [
    "with open('/Users/laura/.secret/yelp_api.json') as f:   #use your path here!\n",
    "    login = json.load(f)"
   ]
  },
  {
   "cell_type": "code",
   "execution_count": 4,
   "id": "efbf91eb",
   "metadata": {},
   "outputs": [],
   "source": [
    "yelp = YelpAPI(login['API Key'], timeout_s=5.0)"
   ]
  },
  {
   "cell_type": "code",
   "execution_count": 5,
   "id": "ed357add",
   "metadata": {},
   "outputs": [],
   "source": [
    "Location = 'Sioux Falls, SD'\n",
    "Term = 'Chicken'"
   ]
  },
  {
   "cell_type": "code",
   "execution_count": 6,
   "id": "e72e8170",
   "metadata": {},
   "outputs": [
    {
     "data": {
      "text/plain": [
       "'Data/results_of_chicken_SF.json'"
      ]
     },
     "execution_count": 6,
     "metadata": {},
     "output_type": "execute_result"
    }
   ],
   "source": [
    "JSON_FILE = \"Data/results_of_chicken_SF.json\" \n",
    "JSON_FILE"
   ]
  },
  {
   "cell_type": "code",
   "execution_count": 7,
   "id": "361f2f2d",
   "metadata": {},
   "outputs": [
    {
     "name": "stdout",
     "output_type": "stream",
     "text": [
      "[i] Data/results_of_chicken_SF.json not found. Saving empty list to file.\n"
     ]
    }
   ],
   "source": [
    "file_exists = os.path.isfile(JSON_FILE)\n",
    "## If it does not exist: \n",
    "if file_exists == False:\n",
    "    \n",
    "    ## CREATE ANY NEEDED FOLDERS\n",
    "    # Get the Folder Name only\n",
    "    folder = os.path.dirname(JSON_FILE)\n",
    "    ## If JSON_FILE included a folder:\n",
    "    if len(folder)>0:\n",
    "        # create the folder\n",
    "        os.makedirs(folder,exist_ok=True)\n",
    "        \n",
    "        \n",
    "    ## INFORM USER AND SAVE EMPTY LIST\n",
    "    print(f'[i] {JSON_FILE} not found. Saving empty list to file.')\n",
    "    \n",
    "    \n",
    "    # save an empty list\n",
    "    with open(JSON_FILE,'w') as f:\n",
    "        json.dump([],f)  \n",
    "# If it exists, inform user\n",
    "else:\n",
    "    print(f\"[i] {JSON_FILE} already exists.\")"
   ]
  },
  {
   "cell_type": "code",
   "execution_count": 8,
   "id": "5446d360",
   "metadata": {},
   "outputs": [
    {
     "name": "stdout",
     "output_type": "stream",
     "text": [
      "- 0 previous results found.\n"
     ]
    }
   ],
   "source": [
    "with open(JSON_FILE,'r') as f:\n",
    "    previous_results = json.load(f)\n",
    "    \n",
    "n_results = len(previous_results)\n",
    "print(f'- {n_results} previous results found.')"
   ]
  },
  {
   "cell_type": "code",
   "execution_count": 10,
   "id": "eedf1423",
   "metadata": {},
   "outputs": [
    {
     "data": {
      "text/plain": [
       "dict_keys(['businesses', 'total', 'region'])"
      ]
     },
     "execution_count": 10,
     "metadata": {},
     "output_type": "execute_result"
    }
   ],
   "source": [
    "results = yelp.search_query(location=Location,\n",
    "                                term=Term,\n",
    "                               offset=n_results)\n",
    "results.keys()"
   ]
  },
  {
   "cell_type": "code",
   "execution_count": 11,
   "id": "b2690751",
   "metadata": {},
   "outputs": [
    {
     "data": {
      "text/plain": [
       "371"
      ]
     },
     "execution_count": 11,
     "metadata": {},
     "output_type": "execute_result"
    }
   ],
   "source": [
    "total_results = results['total']\n",
    "total_results"
   ]
  },
  {
   "cell_type": "code",
   "execution_count": 12,
   "id": "b0f0add6",
   "metadata": {},
   "outputs": [
    {
     "data": {
      "text/plain": [
       "20"
      ]
     },
     "execution_count": 12,
     "metadata": {},
     "output_type": "execute_result"
    }
   ],
   "source": [
    "results_per_page = len(results['businesses'])\n",
    "results_per_page\n"
   ]
  },
  {
   "cell_type": "code",
   "execution_count": 13,
   "id": "572e10d7",
   "metadata": {},
   "outputs": [
    {
     "data": {
      "text/plain": [
       "19"
      ]
     },
     "execution_count": 13,
     "metadata": {},
     "output_type": "execute_result"
    }
   ],
   "source": [
    "n_pages = math.ceil((results['total']-n_results)/ results_per_page)\n",
    "n_pages"
   ]
  },
  {
   "cell_type": "code",
   "execution_count": 14,
   "id": "ffec7b53",
   "metadata": {},
   "outputs": [],
   "source": [
    "previous_results.extend(results['businesses'])  \n",
    "with open(JSON_FILE,'w') as f:\n",
    "     json.dump(previous_results,f)"
   ]
  },
  {
   "cell_type": "code",
   "execution_count": null,
   "id": "5c661739",
   "metadata": {},
   "outputs": [],
   "source": []
  },
  {
   "cell_type": "code",
   "execution_count": 20,
   "id": "76203e97",
   "metadata": {},
   "outputs": [
    {
     "data": {
      "application/vnd.jupyter.widget-view+json": {
       "model_id": "d320b537a8214e3a9c8a1be64bd6b17e",
       "version_major": 2,
       "version_minor": 0
      },
      "text/plain": [
       "  0%|          | 0/19 [00:00<?, ?it/s]"
      ]
     },
     "metadata": {},
     "output_type": "display_data"
    }
   ],
   "source": [
    "for i in tqdm_notebook(range(1,n_pages+1)): \n",
    "    with open(JSON_FILE, 'r') as f: \n",
    "        previous_results = json.load(f)\n",
    "    \n",
    "    n_results = len(previous_results) \n",
    "    \n",
    "    if (n_results + results_per_page) > 1000: \n",
    "        print('Exceed 1000 api calls') \n",
    "        break\n",
    "    results = yelp.search_query(location= Location,\n",
    "                               term=Term,\n",
    "                               offset=n_results)\n",
    "    previous_results.extend(results['businesses'])\n",
    "    \n",
    "    with open(JSON_FILE, 'w') as f: \n",
    "        json.dump(previous_results, f) \n",
    "    \n",
    "    time.sleep(.2)\n",
    "    "
   ]
  },
  {
   "cell_type": "code",
   "execution_count": 21,
   "id": "b6af6ec3",
   "metadata": {},
   "outputs": [
    {
     "data": {
      "text/html": [
       "<div>\n",
       "<style scoped>\n",
       "    .dataframe tbody tr th:only-of-type {\n",
       "        vertical-align: middle;\n",
       "    }\n",
       "\n",
       "    .dataframe tbody tr th {\n",
       "        vertical-align: top;\n",
       "    }\n",
       "\n",
       "    .dataframe thead th {\n",
       "        text-align: right;\n",
       "    }\n",
       "</style>\n",
       "<table border=\"1\" class=\"dataframe\">\n",
       "  <thead>\n",
       "    <tr style=\"text-align: right;\">\n",
       "      <th></th>\n",
       "      <th>id</th>\n",
       "      <th>alias</th>\n",
       "      <th>name</th>\n",
       "      <th>image_url</th>\n",
       "      <th>is_closed</th>\n",
       "      <th>url</th>\n",
       "      <th>review_count</th>\n",
       "      <th>categories</th>\n",
       "      <th>rating</th>\n",
       "      <th>coordinates</th>\n",
       "      <th>transactions</th>\n",
       "      <th>location</th>\n",
       "      <th>phone</th>\n",
       "      <th>display_phone</th>\n",
       "      <th>distance</th>\n",
       "      <th>price</th>\n",
       "    </tr>\n",
       "  </thead>\n",
       "  <tbody>\n",
       "    <tr>\n",
       "      <th>0</th>\n",
       "      <td>9P3l1Sv3mqHPjqDlgXtrfA</td>\n",
       "      <td>oppa-chicken-sioux-falls</td>\n",
       "      <td>Oppa Chicken</td>\n",
       "      <td>https://s3-media1.fl.yelpcdn.com/bphoto/ePqHHh...</td>\n",
       "      <td>False</td>\n",
       "      <td>https://www.yelp.com/biz/oppa-chicken-sioux-fa...</td>\n",
       "      <td>13</td>\n",
       "      <td>[{'alias': 'korean', 'title': 'Korean'}, {'ali...</td>\n",
       "      <td>4.5</td>\n",
       "      <td>{'latitude': 43.513924, 'longitude': -96.750413}</td>\n",
       "      <td>[delivery, pickup]</td>\n",
       "      <td>{'address1': '3412 S Western Ave', 'address2':...</td>\n",
       "      <td>+16053348888</td>\n",
       "      <td>(605) 334-8888</td>\n",
       "      <td>3653.340099</td>\n",
       "      <td>NaN</td>\n",
       "    </tr>\n",
       "    <tr>\n",
       "      <th>1</th>\n",
       "      <td>VyLu3LAuw1P-nYTQdtjFiA</td>\n",
       "      <td>the-keg-sioux-falls-3</td>\n",
       "      <td>The Keg</td>\n",
       "      <td>https://s3-media4.fl.yelpcdn.com/bphoto/Bdxyis...</td>\n",
       "      <td>False</td>\n",
       "      <td>https://www.yelp.com/biz/the-keg-sioux-falls-3...</td>\n",
       "      <td>35</td>\n",
       "      <td>[{'alias': 'tradamerican', 'title': 'American ...</td>\n",
       "      <td>4.0</td>\n",
       "      <td>{'latitude': 43.5437927, 'longitude': -96.7761...</td>\n",
       "      <td>[delivery, pickup]</td>\n",
       "      <td>{'address1': '4211 W 12th St', 'address2': '',...</td>\n",
       "      <td>+16052754534</td>\n",
       "      <td>(605) 275-4534</td>\n",
       "      <td>4264.988878</td>\n",
       "      <td>$</td>\n",
       "    </tr>\n",
       "    <tr>\n",
       "      <th>2</th>\n",
       "      <td>CbWRnnOkmG03AG034bNh6A</td>\n",
       "      <td>slim-chickens-sioux-falls</td>\n",
       "      <td>Slim Chickens</td>\n",
       "      <td>https://s3-media1.fl.yelpcdn.com/bphoto/rYucZo...</td>\n",
       "      <td>False</td>\n",
       "      <td>https://www.yelp.com/biz/slim-chickens-sioux-f...</td>\n",
       "      <td>38</td>\n",
       "      <td>[{'alias': 'chicken_wings', 'title': 'Chicken ...</td>\n",
       "      <td>3.5</td>\n",
       "      <td>{'latitude': 43.53146, 'longitude': -96.7317}</td>\n",
       "      <td>[delivery, pickup]</td>\n",
       "      <td>{'address1': '1517 S Minnesota Ave', 'address2...</td>\n",
       "      <td>+16052715227</td>\n",
       "      <td>(605) 271-5227</td>\n",
       "      <td>1166.145206</td>\n",
       "      <td>$</td>\n",
       "    </tr>\n",
       "    <tr>\n",
       "      <th>3</th>\n",
       "      <td>ZnpTSWE4InWdXGcy5KlB2g</td>\n",
       "      <td>botskis-sioux-falls</td>\n",
       "      <td>Botski's</td>\n",
       "      <td>https://s3-media1.fl.yelpcdn.com/bphoto/Zb4Ecz...</td>\n",
       "      <td>False</td>\n",
       "      <td>https://www.yelp.com/biz/botskis-sioux-falls?a...</td>\n",
       "      <td>23</td>\n",
       "      <td>[{'alias': 'tradamerican', 'title': 'American ...</td>\n",
       "      <td>4.0</td>\n",
       "      <td>{'latitude': 43.5276286306062, 'longitude': -9...</td>\n",
       "      <td>[delivery]</td>\n",
       "      <td>{'address1': '1914 S Sycamore Ave', 'address2'...</td>\n",
       "      <td>+16052715353</td>\n",
       "      <td>(605) 271-5353</td>\n",
       "      <td>4649.274662</td>\n",
       "      <td>$$</td>\n",
       "    </tr>\n",
       "    <tr>\n",
       "      <th>4</th>\n",
       "      <td>hJqOZ8CiYlkwdi2oQl571A</td>\n",
       "      <td>swamp-daddys-cajun-kitchen-sioux-falls</td>\n",
       "      <td>Swamp Daddy's Cajun Kitchen</td>\n",
       "      <td>https://s3-media4.fl.yelpcdn.com/bphoto/W5dn1y...</td>\n",
       "      <td>False</td>\n",
       "      <td>https://www.yelp.com/biz/swamp-daddys-cajun-ki...</td>\n",
       "      <td>46</td>\n",
       "      <td>[{'alias': 'cajun', 'title': 'Cajun/Creole'}, ...</td>\n",
       "      <td>4.0</td>\n",
       "      <td>{'latitude': 43.55192359999999, 'longitude': -...</td>\n",
       "      <td>[delivery, pickup]</td>\n",
       "      <td>{'address1': '421 North Phillips Ave', 'addres...</td>\n",
       "      <td>+16055951961</td>\n",
       "      <td>(605) 595-1961</td>\n",
       "      <td>1314.305217</td>\n",
       "      <td>NaN</td>\n",
       "    </tr>\n",
       "  </tbody>\n",
       "</table>\n",
       "</div>"
      ],
      "text/plain": [
       "                       id                                   alias  \\\n",
       "0  9P3l1Sv3mqHPjqDlgXtrfA                oppa-chicken-sioux-falls   \n",
       "1  VyLu3LAuw1P-nYTQdtjFiA                   the-keg-sioux-falls-3   \n",
       "2  CbWRnnOkmG03AG034bNh6A               slim-chickens-sioux-falls   \n",
       "3  ZnpTSWE4InWdXGcy5KlB2g                     botskis-sioux-falls   \n",
       "4  hJqOZ8CiYlkwdi2oQl571A  swamp-daddys-cajun-kitchen-sioux-falls   \n",
       "\n",
       "                          name  \\\n",
       "0                 Oppa Chicken   \n",
       "1                      The Keg   \n",
       "2                Slim Chickens   \n",
       "3                     Botski's   \n",
       "4  Swamp Daddy's Cajun Kitchen   \n",
       "\n",
       "                                           image_url  is_closed  \\\n",
       "0  https://s3-media1.fl.yelpcdn.com/bphoto/ePqHHh...      False   \n",
       "1  https://s3-media4.fl.yelpcdn.com/bphoto/Bdxyis...      False   \n",
       "2  https://s3-media1.fl.yelpcdn.com/bphoto/rYucZo...      False   \n",
       "3  https://s3-media1.fl.yelpcdn.com/bphoto/Zb4Ecz...      False   \n",
       "4  https://s3-media4.fl.yelpcdn.com/bphoto/W5dn1y...      False   \n",
       "\n",
       "                                                 url  review_count  \\\n",
       "0  https://www.yelp.com/biz/oppa-chicken-sioux-fa...            13   \n",
       "1  https://www.yelp.com/biz/the-keg-sioux-falls-3...            35   \n",
       "2  https://www.yelp.com/biz/slim-chickens-sioux-f...            38   \n",
       "3  https://www.yelp.com/biz/botskis-sioux-falls?a...            23   \n",
       "4  https://www.yelp.com/biz/swamp-daddys-cajun-ki...            46   \n",
       "\n",
       "                                          categories  rating  \\\n",
       "0  [{'alias': 'korean', 'title': 'Korean'}, {'ali...     4.5   \n",
       "1  [{'alias': 'tradamerican', 'title': 'American ...     4.0   \n",
       "2  [{'alias': 'chicken_wings', 'title': 'Chicken ...     3.5   \n",
       "3  [{'alias': 'tradamerican', 'title': 'American ...     4.0   \n",
       "4  [{'alias': 'cajun', 'title': 'Cajun/Creole'}, ...     4.0   \n",
       "\n",
       "                                         coordinates        transactions  \\\n",
       "0   {'latitude': 43.513924, 'longitude': -96.750413}  [delivery, pickup]   \n",
       "1  {'latitude': 43.5437927, 'longitude': -96.7761...  [delivery, pickup]   \n",
       "2      {'latitude': 43.53146, 'longitude': -96.7317}  [delivery, pickup]   \n",
       "3  {'latitude': 43.5276286306062, 'longitude': -9...          [delivery]   \n",
       "4  {'latitude': 43.55192359999999, 'longitude': -...  [delivery, pickup]   \n",
       "\n",
       "                                            location         phone  \\\n",
       "0  {'address1': '3412 S Western Ave', 'address2':...  +16053348888   \n",
       "1  {'address1': '4211 W 12th St', 'address2': '',...  +16052754534   \n",
       "2  {'address1': '1517 S Minnesota Ave', 'address2...  +16052715227   \n",
       "3  {'address1': '1914 S Sycamore Ave', 'address2'...  +16052715353   \n",
       "4  {'address1': '421 North Phillips Ave', 'addres...  +16055951961   \n",
       "\n",
       "    display_phone     distance price  \n",
       "0  (605) 334-8888  3653.340099   NaN  \n",
       "1  (605) 275-4534  4264.988878     $  \n",
       "2  (605) 271-5227  1166.145206     $  \n",
       "3  (605) 271-5353  4649.274662    $$  \n",
       "4  (605) 595-1961  1314.305217   NaN  "
      ]
     },
     "execution_count": 21,
     "metadata": {},
     "output_type": "execute_result"
    }
   ],
   "source": [
    "df = pd.read_json(JSON_FILE)\n",
    "df.head(5)"
   ]
  },
  {
   "cell_type": "code",
   "execution_count": 23,
   "id": "fab7411a",
   "metadata": {},
   "outputs": [
    {
     "data": {
      "text/html": [
       "<div>\n",
       "<style scoped>\n",
       "    .dataframe tbody tr th:only-of-type {\n",
       "        vertical-align: middle;\n",
       "    }\n",
       "\n",
       "    .dataframe tbody tr th {\n",
       "        vertical-align: top;\n",
       "    }\n",
       "\n",
       "    .dataframe thead th {\n",
       "        text-align: right;\n",
       "    }\n",
       "</style>\n",
       "<table border=\"1\" class=\"dataframe\">\n",
       "  <thead>\n",
       "    <tr style=\"text-align: right;\">\n",
       "      <th></th>\n",
       "      <th>id</th>\n",
       "      <th>alias</th>\n",
       "      <th>name</th>\n",
       "      <th>image_url</th>\n",
       "      <th>is_closed</th>\n",
       "      <th>url</th>\n",
       "      <th>review_count</th>\n",
       "      <th>categories</th>\n",
       "      <th>rating</th>\n",
       "      <th>coordinates</th>\n",
       "      <th>transactions</th>\n",
       "      <th>location</th>\n",
       "      <th>phone</th>\n",
       "      <th>display_phone</th>\n",
       "      <th>distance</th>\n",
       "      <th>price</th>\n",
       "    </tr>\n",
       "  </thead>\n",
       "  <tbody>\n",
       "    <tr>\n",
       "      <th>357</th>\n",
       "      <td>Cm9aL7CgNhc6ssrQQf8Kvg</td>\n",
       "      <td>olive-garden-italian-restaurant-sioux-falls-3</td>\n",
       "      <td>Olive Garden Italian Restaurant</td>\n",
       "      <td>https://s3-media1.fl.yelpcdn.com/bphoto/Q3iuMj...</td>\n",
       "      <td>False</td>\n",
       "      <td>https://www.yelp.com/biz/olive-garden-italian-...</td>\n",
       "      <td>65</td>\n",
       "      <td>[{'alias': 'italian', 'title': 'Italian'}, {'a...</td>\n",
       "      <td>2.5</td>\n",
       "      <td>{'latitude': 43.514061, 'longitude': -96.76485}</td>\n",
       "      <td>[]</td>\n",
       "      <td>{'address1': '3121 W 41st St', 'address2': '',...</td>\n",
       "      <td>+16053330290</td>\n",
       "      <td>(605) 333-0290</td>\n",
       "      <td>4429.427063</td>\n",
       "      <td>$$</td>\n",
       "    </tr>\n",
       "    <tr>\n",
       "      <th>358</th>\n",
       "      <td>DP-JrMQDFnZadPuNMlS_Ww</td>\n",
       "      <td>pizza-hut-sioux-falls-16</td>\n",
       "      <td>Pizza Hut</td>\n",
       "      <td>https://s3-media3.fl.yelpcdn.com/bphoto/s4rm_R...</td>\n",
       "      <td>False</td>\n",
       "      <td>https://www.yelp.com/biz/pizza-hut-sioux-falls...</td>\n",
       "      <td>18</td>\n",
       "      <td>[{'alias': 'pizza', 'title': 'Pizza'}, {'alias...</td>\n",
       "      <td>2.5</td>\n",
       "      <td>{'latitude': 43.514388, 'longitude': -96.807279}</td>\n",
       "      <td>[pickup, delivery]</td>\n",
       "      <td>{'address1': '6507 W. 41st Street', 'address2'...</td>\n",
       "      <td>+16053616666</td>\n",
       "      <td>(605) 361-6666</td>\n",
       "      <td>7331.486858</td>\n",
       "      <td>$</td>\n",
       "    </tr>\n",
       "    <tr>\n",
       "      <th>359</th>\n",
       "      <td>1VIJ-7F1bs7c-M1RlPvKmQ</td>\n",
       "      <td>dominos-pizza-sioux-falls-4</td>\n",
       "      <td>Domino's Pizza</td>\n",
       "      <td></td>\n",
       "      <td>False</td>\n",
       "      <td>https://www.yelp.com/biz/dominos-pizza-sioux-f...</td>\n",
       "      <td>9</td>\n",
       "      <td>[{'alias': 'pizza', 'title': 'Pizza'}, {'alias...</td>\n",
       "      <td>2.0</td>\n",
       "      <td>{'latitude': 43.5443954467773, 'longitude': -9...</td>\n",
       "      <td>[]</td>\n",
       "      <td>{'address1': '4009 E 10th St', 'address2': Non...</td>\n",
       "      <td>+16053315171</td>\n",
       "      <td>(605) 331-5171</td>\n",
       "      <td>3882.265907</td>\n",
       "      <td>$</td>\n",
       "    </tr>\n",
       "    <tr>\n",
       "      <th>360</th>\n",
       "      <td>c76uYNJNsO5i8g2x8piGDg</td>\n",
       "      <td>dominos-pizza-sioux-falls-6</td>\n",
       "      <td>Domino's Pizza</td>\n",
       "      <td>https://s3-media3.fl.yelpcdn.com/bphoto/X2DA21...</td>\n",
       "      <td>False</td>\n",
       "      <td>https://www.yelp.com/biz/dominos-pizza-sioux-f...</td>\n",
       "      <td>10</td>\n",
       "      <td>[{'alias': 'pizza', 'title': 'Pizza'}, {'alias...</td>\n",
       "      <td>2.5</td>\n",
       "      <td>{'latitude': 43.5002151, 'longitude': -96.712106}</td>\n",
       "      <td>[]</td>\n",
       "      <td>{'address1': '1207 E 57th St', 'address2': Non...</td>\n",
       "      <td>+16053713322</td>\n",
       "      <td>(605) 371-3322</td>\n",
       "      <td>4660.154988</td>\n",
       "      <td>$</td>\n",
       "    </tr>\n",
       "    <tr>\n",
       "      <th>361</th>\n",
       "      <td>6Fp8rHs3j0vd5RyDx1XKEg</td>\n",
       "      <td>pizza-hut-brandon-11</td>\n",
       "      <td>Pizza Hut</td>\n",
       "      <td>https://s3-media3.fl.yelpcdn.com/bphoto/xyvR7P...</td>\n",
       "      <td>False</td>\n",
       "      <td>https://www.yelp.com/biz/pizza-hut-brandon-11?...</td>\n",
       "      <td>5</td>\n",
       "      <td>[{'alias': 'pizza', 'title': 'Pizza'}, {'alias...</td>\n",
       "      <td>2.0</td>\n",
       "      <td>{'latitude': 43.59513651987468, 'longitude': -...</td>\n",
       "      <td>[pickup, delivery]</td>\n",
       "      <td>{'address1': '101 N Splitrock Blvd', 'address2...</td>\n",
       "      <td>+16055824488</td>\n",
       "      <td>(605) 582-4488</td>\n",
       "      <td>13577.648810</td>\n",
       "      <td>$</td>\n",
       "    </tr>\n",
       "  </tbody>\n",
       "</table>\n",
       "</div>"
      ],
      "text/plain": [
       "                         id                                          alias  \\\n",
       "357  Cm9aL7CgNhc6ssrQQf8Kvg  olive-garden-italian-restaurant-sioux-falls-3   \n",
       "358  DP-JrMQDFnZadPuNMlS_Ww                       pizza-hut-sioux-falls-16   \n",
       "359  1VIJ-7F1bs7c-M1RlPvKmQ                    dominos-pizza-sioux-falls-4   \n",
       "360  c76uYNJNsO5i8g2x8piGDg                    dominos-pizza-sioux-falls-6   \n",
       "361  6Fp8rHs3j0vd5RyDx1XKEg                           pizza-hut-brandon-11   \n",
       "\n",
       "                                name  \\\n",
       "357  Olive Garden Italian Restaurant   \n",
       "358                        Pizza Hut   \n",
       "359                   Domino's Pizza   \n",
       "360                   Domino's Pizza   \n",
       "361                        Pizza Hut   \n",
       "\n",
       "                                             image_url  is_closed  \\\n",
       "357  https://s3-media1.fl.yelpcdn.com/bphoto/Q3iuMj...      False   \n",
       "358  https://s3-media3.fl.yelpcdn.com/bphoto/s4rm_R...      False   \n",
       "359                                                         False   \n",
       "360  https://s3-media3.fl.yelpcdn.com/bphoto/X2DA21...      False   \n",
       "361  https://s3-media3.fl.yelpcdn.com/bphoto/xyvR7P...      False   \n",
       "\n",
       "                                                   url  review_count  \\\n",
       "357  https://www.yelp.com/biz/olive-garden-italian-...            65   \n",
       "358  https://www.yelp.com/biz/pizza-hut-sioux-falls...            18   \n",
       "359  https://www.yelp.com/biz/dominos-pizza-sioux-f...             9   \n",
       "360  https://www.yelp.com/biz/dominos-pizza-sioux-f...            10   \n",
       "361  https://www.yelp.com/biz/pizza-hut-brandon-11?...             5   \n",
       "\n",
       "                                            categories  rating  \\\n",
       "357  [{'alias': 'italian', 'title': 'Italian'}, {'a...     2.5   \n",
       "358  [{'alias': 'pizza', 'title': 'Pizza'}, {'alias...     2.5   \n",
       "359  [{'alias': 'pizza', 'title': 'Pizza'}, {'alias...     2.0   \n",
       "360  [{'alias': 'pizza', 'title': 'Pizza'}, {'alias...     2.5   \n",
       "361  [{'alias': 'pizza', 'title': 'Pizza'}, {'alias...     2.0   \n",
       "\n",
       "                                           coordinates        transactions  \\\n",
       "357    {'latitude': 43.514061, 'longitude': -96.76485}                  []   \n",
       "358   {'latitude': 43.514388, 'longitude': -96.807279}  [pickup, delivery]   \n",
       "359  {'latitude': 43.5443954467773, 'longitude': -9...                  []   \n",
       "360  {'latitude': 43.5002151, 'longitude': -96.712106}                  []   \n",
       "361  {'latitude': 43.59513651987468, 'longitude': -...  [pickup, delivery]   \n",
       "\n",
       "                                              location         phone  \\\n",
       "357  {'address1': '3121 W 41st St', 'address2': '',...  +16053330290   \n",
       "358  {'address1': '6507 W. 41st Street', 'address2'...  +16053616666   \n",
       "359  {'address1': '4009 E 10th St', 'address2': Non...  +16053315171   \n",
       "360  {'address1': '1207 E 57th St', 'address2': Non...  +16053713322   \n",
       "361  {'address1': '101 N Splitrock Blvd', 'address2...  +16055824488   \n",
       "\n",
       "      display_phone      distance price  \n",
       "357  (605) 333-0290   4429.427063    $$  \n",
       "358  (605) 361-6666   7331.486858     $  \n",
       "359  (605) 331-5171   3882.265907     $  \n",
       "360  (605) 371-3322   4660.154988     $  \n",
       "361  (605) 582-4488  13577.648810     $  "
      ]
     },
     "execution_count": 23,
     "metadata": {},
     "output_type": "execute_result"
    }
   ],
   "source": [
    "df.tail()"
   ]
  },
  {
   "cell_type": "code",
   "execution_count": 24,
   "id": "7637cd79",
   "metadata": {},
   "outputs": [
    {
     "name": "stdout",
     "output_type": "stream",
     "text": [
      "<class 'pandas.core.frame.DataFrame'>\n",
      "RangeIndex: 362 entries, 0 to 361\n",
      "Data columns (total 16 columns):\n",
      " #   Column         Non-Null Count  Dtype  \n",
      "---  ------         --------------  -----  \n",
      " 0   id             362 non-null    object \n",
      " 1   alias          362 non-null    object \n",
      " 2   name           362 non-null    object \n",
      " 3   image_url      362 non-null    object \n",
      " 4   is_closed      362 non-null    bool   \n",
      " 5   url            362 non-null    object \n",
      " 6   review_count   362 non-null    int64  \n",
      " 7   categories     362 non-null    object \n",
      " 8   rating         362 non-null    float64\n",
      " 9   coordinates    362 non-null    object \n",
      " 10  transactions   362 non-null    object \n",
      " 11  location       362 non-null    object \n",
      " 12  phone          362 non-null    object \n",
      " 13  display_phone  362 non-null    object \n",
      " 14  distance       362 non-null    float64\n",
      " 15  price          250 non-null    object \n",
      "dtypes: bool(1), float64(2), int64(1), object(12)\n",
      "memory usage: 42.9+ KB\n"
     ]
    }
   ],
   "source": [
    "df.info()"
   ]
  },
  {
   "cell_type": "code",
   "execution_count": 25,
   "id": "76d1eaad",
   "metadata": {},
   "outputs": [
    {
     "data": {
      "text/plain": [
       "0"
      ]
     },
     "execution_count": 25,
     "metadata": {},
     "output_type": "execute_result"
    }
   ],
   "source": [
    "df.duplicated(subset='id').sum()"
   ]
  },
  {
   "cell_type": "code",
   "execution_count": 26,
   "id": "b5146ebd",
   "metadata": {},
   "outputs": [],
   "source": [
    "df.to_csv(\"Data/results_of_chicken_SF.json\", compression='gzip', index=False)"
   ]
  },
  {
   "cell_type": "code",
   "execution_count": null,
   "id": "0dedb74a",
   "metadata": {},
   "outputs": [],
   "source": []
  }
 ],
 "metadata": {
  "kernelspec": {
   "display_name": "Python 3 (ipykernel)",
   "language": "python",
   "name": "python3"
  },
  "language_info": {
   "codemirror_mode": {
    "name": "ipython",
    "version": 3
   },
   "file_extension": ".py",
   "mimetype": "text/x-python",
   "name": "python",
   "nbconvert_exporter": "python",
   "pygments_lexer": "ipython3",
   "version": "3.9.15"
  },
  "toc": {
   "base_numbering": 1,
   "nav_menu": {},
   "number_sections": true,
   "sideBar": true,
   "skip_h1_title": false,
   "title_cell": "Table of Contents",
   "title_sidebar": "Contents",
   "toc_cell": false,
   "toc_position": {},
   "toc_section_display": true,
   "toc_window_display": true
  }
 },
 "nbformat": 4,
 "nbformat_minor": 5
}
